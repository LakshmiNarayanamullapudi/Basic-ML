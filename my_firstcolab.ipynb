{
  "nbformat": 4,
  "nbformat_minor": 0,
  "metadata": {
    "colab": {
      "name": "my firstcolab.ipynb",
      "provenance": [],
      "authorship_tag": "ABX9TyM02ILs8INH/pXnmFTIB+GE",
      "include_colab_link": true
    },
    "kernelspec": {
      "name": "python3",
      "display_name": "Python 3"
    },
    "language_info": {
      "name": "python"
    }
  },
  "cells": [
    {
      "cell_type": "markdown",
      "metadata": {
        "id": "view-in-github",
        "colab_type": "text"
      },
      "source": [
        "<a href=\"https://colab.research.google.com/github/LakshmiNarayanamullapudi/Basic-ML/blob/main/my_firstcolab.ipynb\" target=\"_parent\"><img src=\"https://colab.research.google.com/assets/colab-badge.svg\" alt=\"Open In Colab\"/></a>"
      ]
    },
    {
      "cell_type": "markdown",
      "metadata": {
        "id": "DAWi_ScIVHDt"
      },
      "source": [
        "**Python program for finding factorial:**"
      ]
    },
    {
      "cell_type": "code",
      "metadata": {
        "id": "bHqE_ygxVHdz"
      },
      "source": [
        "N = int(input(\"Enter a number: \"))    \n",
        "factorial = 1    \n",
        "if N < 0:    \n",
        "   print(\" Factorial does not exist for negative numbers\")    \n",
        "elif N == 0:    \n",
        "   print(\"The factorial of 0 is 1\")    \n",
        "else:    \n",
        "   for i in range(1,N+ 1):    \n",
        "       factorial = factorial*i    \n",
        "   print(\"The factorial of\",N,\"is\",factorial)"
      ],
      "execution_count": null,
      "outputs": []
    },
    {
      "cell_type": "markdown",
      "metadata": {
        "id": "oOmfNTpvVOYz"
      },
      "source": [
        "***Python program for finding sum of N natural numbers:***"
      ]
    },
    {
      "cell_type": "code",
      "metadata": {
        "id": "haXuAZhvVOqd"
      },
      "source": [
        "N = int(input())\n",
        "\n",
        "if N< 0:\n",
        "   print(\"Enter a positive number\")\n",
        "else:\n",
        "   sum = 0\n",
        "   # use while loop to iterate until zero\n",
        "   while(N > 0):\n",
        "       sum +=N \n",
        "       N -= 1\n",
        "   print(\"The sum is\", sum)"
      ],
      "execution_count": null,
      "outputs": []
    },
    {
      "cell_type": "markdown",
      "metadata": {
        "id": "nk-p_hjeVrU6"
      },
      "source": [
        "**Python program for finding whether even or odd:**"
      ]
    },
    {
      "cell_type": "code",
      "metadata": {
        "id": "xwDlFBcLVp3Y"
      },
      "source": [
        "N=int(input())\n",
        "if N%2==0:\n",
        "    print(\"Even\")\n",
        "else:\n",
        "    print(\"Odd\")"
      ],
      "execution_count": null,
      "outputs": []
    }
  ]
}